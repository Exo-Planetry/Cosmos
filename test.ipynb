{
 "cells": [
  {
   "cell_type": "code",
   "execution_count": null,
   "metadata": {},
   "outputs": [],
   "source": [
    "import numpy as np\n",
    "import pandas as pd\n",
    "import matplotlib.pyplot as plt\n",
    "from sklearn.model_selection import train_test_split\n",
    "from sklearn.ensemble import RandomForestClassifier\n",
    "from sklearn.metrics import accuracy_score, precision_score, recall_score, f1_score, confusion_matrix"
   ]
  },
  {
   "cell_type": "code",
   "execution_count": null,
   "metadata": {},
   "outputs": [],
   "source": [
    "    np.random.seed(42)\n",
    "\n",
    "    time = np.linspace(0, 10, 1000)\n",
    "    flux = 1 + 0.05 * np.sin(2 * np.pi * 1.5 * time)  # Simulating stellar variability\n",
    "\n",
    "    num_periods = 1000 // 3\n",
    "    periods = np.repeat([2, 4, 6], num_periods)\n",
    "    periods = np.tile(periods, 1000 // num_periods)\n",
    "\n",
    "    num_durations = 1000 // 3\n",
    "    durations = np.repeat([1, 1.5, 2], num_durations)\n",
    "    durations = np.tile(durations, 1000 // num_durations)\n",
    "\n",
    "    num_depths = 1000 // 3\n",
    "    depths = np.repeat([0.02, 0.03, 0.01], num_depths)\n",
    "    depths = np.tile(depths, 1000 // num_depths)\n",
    "\n",
    "    data = pd.DataFrame({\n",
    "        'Time': time,\n",
    "        'Flux': flux,\n",
    "        'Period': periods,\n",
    "        'Transit_Duration': durations,\n",
    "        'Transit_Depth': depths,\n",
    "        'Label': np.concatenate([np.zeros(1000), np.ones(1000), np.zeros(1000 * 2)])\n",
    "\n",
    "    })\n"
   ]
  },
  {
   "cell_type": "code",
   "execution_count": null,
   "metadata": {},
   "outputs": [],
   "source": [
    "# Function to generate synthetic dataset with multiple exoplanets\n",
    "def generate_synthetic_dataset(num_samples=1000):\n",
    "    np.random.seed(42)\n",
    "\n",
    "    time = np.linspace(0, 10, num_samples)\n",
    "    flux = 1 + 0.05 * np.sin(2 * np.pi * 1.5 * time)  # Simulating stellar variability\n",
    "\n",
    "    num_periods = num_samples // 3\n",
    "    periods = np.repeat([2, 4, 6], num_periods)\n",
    "    periods = np.tile(periods, num_samples // num_periods)\n",
    "\n",
    "    num_durations = num_samples // 3\n",
    "    durations = np.repeat([1, 1.5, 2], num_durations)\n",
    "    durations = np.tile(durations, num_samples // num_durations)\n",
    "\n",
    "    num_depths = num_samples // 3\n",
    "    depths = np.repeat([0.02, 0.03, 0.01], num_depths)\n",
    "    depths = np.tile(depths, num_samples // num_depths)\n",
    "\n",
    "    data = pd.DataFrame({\n",
    "        'Time': time,\n",
    "        'Flux': flux,\n",
    "        'Period': periods,\n",
    "        'Transit_Duration': durations,\n",
    "        'Transit_Depth': depths,\n",
    "        'Label': np.concatenate([np.zeros(num_samples), np.ones(num_samples), np.zeros(num_samples * 2)])\n",
    "\n",
    "    })\n",
    "\n",
    "    return data\n",
    "    np.random.seed(42)\n",
    "\n",
    "    time = np.linspace(0, 10, num_samples)\n",
    "    flux = 1 + 0.05 * np.sin(2 * np.pi * 1.5 * time)  # Simulating stellar variability\n",
    "\n",
    "    num_periods = num_samples // 3\n",
    "    periods = np.repeat([2, 4, 6], num_periods)\n",
    "    periods = np.tile(periods, num_samples // num_periods)\n",
    "\n",
    "    num_durations = num_samples // 3\n",
    "    durations = np.repeat([1, 1.5, 2], num_durations)\n",
    "    durations = np.tile(durations, num_samples // num_durations)\n",
    "\n",
    "    num_depths = num_samples // 3\n",
    "    depths = np.repeat([0.02, 0.03, 0.01], num_depths)\n",
    "    depths = np.tile(depths, num_samples // num_depths)\n",
    "\n",
    "    data = pd.DataFrame({\n",
    "        'Time': time,\n",
    "        'Flux': flux,\n",
    "        'Period': periods,\n",
    "        'Transit_Duration': durations,\n",
    "        'Transit_Depth': depths,\n",
    "        'Label': np.concatenate([np.zeros(num_samples), np.ones(num_samples), np.zeros(num_samples * 2)])\n",
    "    })\n",
    "\n",
    "    return data"
   ]
  },
  {
   "cell_type": "code",
   "execution_count": null,
   "metadata": {},
   "outputs": [],
   "source": [
    "# Function to visualize light curves\n",
    "def visualize_light_curves(data):\n",
    "    plt.figure(figsize=(12, 6))\n",
    "    for label, group in data.groupby('Label'):\n",
    "        plt.plot(group['Time'], group['Flux'], label=f'Label {int(label)}', alpha=0.7)\n",
    "    plt.title('Synthetic Light Curves with Exoplanetary Transits')\n",
    "    plt.xlabel('Time')\n",
    "    plt.ylabel('Flux')\n",
    "    plt.legend()\n",
    "    plt.show()\n"
   ]
  },
  {
   "cell_type": "code",
   "execution_count": null,
   "metadata": {},
   "outputs": [],
   "source": [
    "# Function to visualize feature importance\n",
    "def visualize_feature_importance(model, feature_names):\n",
    "    importance = model.feature_importances_\n",
    "    sorted_idx = np.argsort(importance)[::-1]\n",
    "\n",
    "    plt.bar(range(len(importance)), importance[sorted_idx])\n",
    "    plt.xticks(range(len(importance)), [feature_names[i] for i in sorted_idx], rotation=45)\n",
    "    plt.title('Feature Importance')\n",
    "    plt.show()\n"
   ]
  },
  {
   "cell_type": "code",
   "execution_count": null,
   "metadata": {},
   "outputs": [],
   "source": [
    "# Function to run the exoplanet detection project\n",
    "def run_exoplanet_detection():\n",
    "    # Generate synthetic dataset\n",
    "    data = generate_synthetic_dataset()\n",
    "\n",
    "    # Visualize light curves\n",
    "    visualize_light_curves(data)\n",
    "\n",
    "    # Data preprocessing\n",
    "    X = data[['Time', 'Flux', 'Period', 'Transit_Duration', 'Transit_Depth']]\n",
    "    y = data.loc[X.index, 'Label']  # Select labels corresponding to the selected features\n",
    "\n",
    "    # Split the dataset into training and testing sets\n",
    "    X_train, X_test, y_train, y_test = train_test_split(X, y, test_size=0.2, random_state=42)\n",
    "\n",
    "    # Train a Random Forest classifier\n",
    "    model = RandomForestClassifier(n_estimators=100, random_state=42)\n",
    "    model.fit(X_train, y_train)\n",
    "\n",
    "    # Visualize feature importance\n",
    "    visualize_feature_importance(model, X.columns)\n",
    "\n",
    "    # User input for prediction\n",
    "    user_input_time = float(input(\"Enter a time value for prediction: \"))\n",
    "    user_input_flux = float(input(\"Enter a flux value for prediction: \"))\n",
    "    user_input_period = float(input(\"Enter the orbital period for prediction: \"))\n",
    "    user_input_duration = float(input(\"Enter the transit duration for prediction: \"))\n",
    "    user_input_depth = float(input(\"Enter the transit depth for prediction: \"))\n",
    "\n",
    "    # Make a prediction based on user input\n",
    "    user_prediction = model.predict([[user_input_time, user_input_flux, user_input_period,\n",
    "                                     user_input_duration, user_input_depth]])\n",
    "    print(f\"The model predicts: {'Exoplanet Transit Detected' if user_prediction[0] == 1 else 'No Exoplanet Transit Detected'}\")\n",
    "\n",
    "    # Make predictions on the test set\n",
    "    y_pred = model.predict(X_test)\n",
    "\n",
    "    # Evaluate the model\n",
    "    accuracy = accuracy_score(y_test, y_pred)\n",
    "    precision = precision_score(y_test, y_pred)\n",
    "    recall = recall_score(y_test, y_pred)\n",
    "    f1 = f1_score(y_test, y_pred)\n",
    "    conf_matrix = confusion_matrix(y_test, y_pred)\n",
    "\n",
    "    # Display evaluation metrics\n",
    "    print(f\"\\nModel Evaluation Metrics:\")\n",
    "    print(f\"Accuracy: {accuracy:.4f}\")\n",
    "    print(f\"Precision: {precision:.4f}\")\n",
    "    print(f\"Recall: {recall:.4f}\")\n",
    "    print(f\"F1 Score: {f1:.4f}\")\n",
    "    print(\"Confusion Matrix:\")\n",
    "    print(conf_matrix)\n"
   ]
  },
  {
   "cell_type": "code",
   "execution_count": null,
   "metadata": {},
   "outputs": [],
   "source": [
    "data = pd.DataFrame([[3, 45, 60, 56, 78,0]], columns=['Time', 'Flux', 'Period', 'Transit_Duration', 'Transit_Depth','Label'])\n",
    "visualize_light_curves(data)\n"
   ]
  },
  {
   "cell_type": "code",
   "execution_count": 3,
   "metadata": {},
   "outputs": [],
   "source": [
    "df = pd.read_csv(\"TD_2023.11.22_08.37.40.csv\")"
   ]
  },
  {
   "cell_type": "code",
   "execution_count": 4,
   "metadata": {},
   "outputs": [
    {
     "data": {
      "text/html": [
       "<div>\n",
       "<style scoped>\n",
       "    .dataframe tbody tr th:only-of-type {\n",
       "        vertical-align: middle;\n",
       "    }\n",
       "\n",
       "    .dataframe tbody tr th {\n",
       "        vertical-align: top;\n",
       "    }\n",
       "\n",
       "    .dataframe thead th {\n",
       "        text-align: right;\n",
       "    }\n",
       "</style>\n",
       "<table border=\"1\" class=\"dataframe\">\n",
       "  <thead>\n",
       "    <tr style=\"text-align: right;\">\n",
       "      <th></th>\n",
       "      <th>pl_name</th>\n",
       "      <th>pl_orbper</th>\n",
       "      <th>pl_orbpererr1</th>\n",
       "      <th>pl_orbpererr2</th>\n",
       "      <th>pl_orbperlim</th>\n",
       "      <th>pl_rade</th>\n",
       "      <th>pl_radeerr1</th>\n",
       "      <th>pl_radeerr2</th>\n",
       "      <th>pl_radelim</th>\n",
       "      <th>pl_orbeccen</th>\n",
       "      <th>...</th>\n",
       "      <th>pl_ratror</th>\n",
       "      <th>pl_ratrorerr1</th>\n",
       "      <th>pl_ratrorerr2</th>\n",
       "      <th>pl_ratrorlim</th>\n",
       "      <th>sy_vmag</th>\n",
       "      <th>sy_vmagerr1</th>\n",
       "      <th>sy_vmagerr2</th>\n",
       "      <th>sy_kmag</th>\n",
       "      <th>sy_kmagerr1</th>\n",
       "      <th>sy_kmagerr2</th>\n",
       "    </tr>\n",
       "  </thead>\n",
       "  <tbody>\n",
       "    <tr>\n",
       "      <th>0</th>\n",
       "      <td>55 Cnc e</td>\n",
       "      <td>2.808000</td>\n",
       "      <td>0.002000</td>\n",
       "      <td>-0.002000</td>\n",
       "      <td>0.0</td>\n",
       "      <td>NaN</td>\n",
       "      <td>NaN</td>\n",
       "      <td>NaN</td>\n",
       "      <td>NaN</td>\n",
       "      <td>0.174</td>\n",
       "      <td>...</td>\n",
       "      <td>NaN</td>\n",
       "      <td>NaN</td>\n",
       "      <td>NaN</td>\n",
       "      <td>NaN</td>\n",
       "      <td>5.95084</td>\n",
       "      <td>0.023</td>\n",
       "      <td>-0.023</td>\n",
       "      <td>4.015</td>\n",
       "      <td>0.036</td>\n",
       "      <td>-0.036</td>\n",
       "    </tr>\n",
       "    <tr>\n",
       "      <th>1</th>\n",
       "      <td>55 Cnc e</td>\n",
       "      <td>0.736547</td>\n",
       "      <td>0.000001</td>\n",
       "      <td>-0.000001</td>\n",
       "      <td>0.0</td>\n",
       "      <td>1.875</td>\n",
       "      <td>0.029</td>\n",
       "      <td>-0.029</td>\n",
       "      <td>0.0</td>\n",
       "      <td>0.050</td>\n",
       "      <td>...</td>\n",
       "      <td>0.0182</td>\n",
       "      <td>0.0002</td>\n",
       "      <td>-0.0002</td>\n",
       "      <td>0.0</td>\n",
       "      <td>5.95084</td>\n",
       "      <td>0.023</td>\n",
       "      <td>-0.023</td>\n",
       "      <td>4.015</td>\n",
       "      <td>0.036</td>\n",
       "      <td>-0.036</td>\n",
       "    </tr>\n",
       "    <tr>\n",
       "      <th>2</th>\n",
       "      <td>55 Cnc e</td>\n",
       "      <td>0.736548</td>\n",
       "      <td>0.000002</td>\n",
       "      <td>-0.000001</td>\n",
       "      <td>0.0</td>\n",
       "      <td>NaN</td>\n",
       "      <td>NaN</td>\n",
       "      <td>NaN</td>\n",
       "      <td>NaN</td>\n",
       "      <td>0.028</td>\n",
       "      <td>...</td>\n",
       "      <td>NaN</td>\n",
       "      <td>NaN</td>\n",
       "      <td>NaN</td>\n",
       "      <td>NaN</td>\n",
       "      <td>5.95084</td>\n",
       "      <td>0.023</td>\n",
       "      <td>-0.023</td>\n",
       "      <td>4.015</td>\n",
       "      <td>0.036</td>\n",
       "      <td>-0.036</td>\n",
       "    </tr>\n",
       "    <tr>\n",
       "      <th>3</th>\n",
       "      <td>55 Cnc e</td>\n",
       "      <td>0.736539</td>\n",
       "      <td>0.000007</td>\n",
       "      <td>-0.000007</td>\n",
       "      <td>0.0</td>\n",
       "      <td>1.910</td>\n",
       "      <td>0.080</td>\n",
       "      <td>-0.080</td>\n",
       "      <td>0.0</td>\n",
       "      <td>NaN</td>\n",
       "      <td>...</td>\n",
       "      <td>0.0187</td>\n",
       "      <td>0.0007</td>\n",
       "      <td>-0.0007</td>\n",
       "      <td>0.0</td>\n",
       "      <td>5.95084</td>\n",
       "      <td>0.023</td>\n",
       "      <td>-0.023</td>\n",
       "      <td>4.015</td>\n",
       "      <td>0.036</td>\n",
       "      <td>-0.036</td>\n",
       "    </tr>\n",
       "    <tr>\n",
       "      <th>4</th>\n",
       "      <td>55 Cnc e</td>\n",
       "      <td>2.796740</td>\n",
       "      <td>0.000100</td>\n",
       "      <td>-0.000100</td>\n",
       "      <td>0.0</td>\n",
       "      <td>NaN</td>\n",
       "      <td>NaN</td>\n",
       "      <td>NaN</td>\n",
       "      <td>NaN</td>\n",
       "      <td>0.264</td>\n",
       "      <td>...</td>\n",
       "      <td>NaN</td>\n",
       "      <td>NaN</td>\n",
       "      <td>NaN</td>\n",
       "      <td>NaN</td>\n",
       "      <td>5.95084</td>\n",
       "      <td>0.023</td>\n",
       "      <td>-0.023</td>\n",
       "      <td>4.015</td>\n",
       "      <td>0.036</td>\n",
       "      <td>-0.036</td>\n",
       "    </tr>\n",
       "  </tbody>\n",
       "</table>\n",
       "<p>5 rows × 48 columns</p>\n",
       "</div>"
      ],
      "text/plain": [
       "    pl_name  pl_orbper  pl_orbpererr1  pl_orbpererr2  pl_orbperlim  pl_rade  \\\n",
       "0  55 Cnc e   2.808000       0.002000      -0.002000           0.0      NaN   \n",
       "1  55 Cnc e   0.736547       0.000001      -0.000001           0.0    1.875   \n",
       "2  55 Cnc e   0.736548       0.000002      -0.000001           0.0      NaN   \n",
       "3  55 Cnc e   0.736539       0.000007      -0.000007           0.0    1.910   \n",
       "4  55 Cnc e   2.796740       0.000100      -0.000100           0.0      NaN   \n",
       "\n",
       "   pl_radeerr1  pl_radeerr2  pl_radelim  pl_orbeccen  ...  pl_ratror  \\\n",
       "0          NaN          NaN         NaN        0.174  ...        NaN   \n",
       "1        0.029       -0.029         0.0        0.050  ...     0.0182   \n",
       "2          NaN          NaN         NaN        0.028  ...        NaN   \n",
       "3        0.080       -0.080         0.0          NaN  ...     0.0187   \n",
       "4          NaN          NaN         NaN        0.264  ...        NaN   \n",
       "\n",
       "   pl_ratrorerr1  pl_ratrorerr2  pl_ratrorlim  sy_vmag  sy_vmagerr1  \\\n",
       "0            NaN            NaN           NaN  5.95084        0.023   \n",
       "1         0.0002        -0.0002           0.0  5.95084        0.023   \n",
       "2            NaN            NaN           NaN  5.95084        0.023   \n",
       "3         0.0007        -0.0007           0.0  5.95084        0.023   \n",
       "4            NaN            NaN           NaN  5.95084        0.023   \n",
       "\n",
       "   sy_vmagerr2  sy_kmag  sy_kmagerr1  sy_kmagerr2  \n",
       "0       -0.023    4.015        0.036       -0.036  \n",
       "1       -0.023    4.015        0.036       -0.036  \n",
       "2       -0.023    4.015        0.036       -0.036  \n",
       "3       -0.023    4.015        0.036       -0.036  \n",
       "4       -0.023    4.015        0.036       -0.036  \n",
       "\n",
       "[5 rows x 48 columns]"
      ]
     },
     "execution_count": 4,
     "metadata": {},
     "output_type": "execute_result"
    }
   ],
   "source": [
    "df.head()"
   ]
  },
  {
   "cell_type": "code",
   "execution_count": 5,
   "metadata": {},
   "outputs": [
    {
     "name": "stdout",
     "output_type": "stream",
     "text": [
      "1536672\n"
     ]
    },
    {
     "data": {
      "text/plain": [
       "(32014, 48)"
      ]
     },
     "execution_count": 5,
     "metadata": {},
     "output_type": "execute_result"
    }
   ],
   "source": [
    "print(df.size)\n",
    "df.shape"
   ]
  },
  {
   "cell_type": "code",
   "execution_count": null,
   "metadata": {},
   "outputs": [],
   "source": [
    "df.fillna(df.mean(), inplace=True)"
   ]
  },
  {
   "cell_type": "code",
   "execution_count": 7,
   "metadata": {},
   "outputs": [
    {
     "ename": "NameError",
     "evalue": "name 'df_cleaned' is not defined",
     "output_type": "error",
     "traceback": [
      "\u001b[1;31m---------------------------------------------------------------------------\u001b[0m",
      "\u001b[1;31mNameError\u001b[0m                                 Traceback (most recent call last)",
      "Cell \u001b[1;32mIn[7], line 1\u001b[0m\n\u001b[1;32m----> 1\u001b[0m \u001b[39mprint\u001b[39m(df_cleaned\u001b[39m.\u001b[39msize)\n\u001b[0;32m      2\u001b[0m df_cleaned\u001b[39m.\u001b[39mshape\n",
      "\u001b[1;31mNameError\u001b[0m: name 'df_cleaned' is not defined"
     ]
    }
   ],
   "source": [
    "print(df_cleaned.size)\n",
    "df_cleaned.shape"
   ]
  },
  {
   "cell_type": "code",
   "execution_count": 8,
   "metadata": {},
   "outputs": [],
   "source": [
    "df1 = df.dropna()"
   ]
  },
  {
   "cell_type": "code",
   "execution_count": 21,
   "metadata": {},
   "outputs": [
    {
     "ename": "NameError",
     "evalue": "name 'df_cleaned' is not defined",
     "output_type": "error",
     "traceback": [
      "\u001b[1;31m---------------------------------------------------------------------------\u001b[0m",
      "\u001b[1;31mNameError\u001b[0m                                 Traceback (most recent call last)",
      "Cell \u001b[1;32mIn[21], line 1\u001b[0m\n\u001b[1;32m----> 1\u001b[0m df_cleaned\u001b[39m.\u001b[39minfo()\n",
      "\u001b[1;31mNameError\u001b[0m: name 'df_cleaned' is not defined"
     ]
    }
   ],
   "source": [
    "df_cleaned.info()"
   ]
  },
  {
   "cell_type": "code",
   "execution_count": 22,
   "metadata": {},
   "outputs": [
    {
     "ename": "NameError",
     "evalue": "name 'df_cleaned' is not defined",
     "output_type": "error",
     "traceback": [
      "\u001b[1;31m---------------------------------------------------------------------------\u001b[0m",
      "\u001b[1;31mNameError\u001b[0m                                 Traceback (most recent call last)",
      "Cell \u001b[1;32mIn[22], line 1\u001b[0m\n\u001b[1;32m----> 1\u001b[0m column_names \u001b[39m=\u001b[39m df_cleaned\u001b[39m.\u001b[39mcolumns\n\u001b[0;32m      2\u001b[0m \u001b[39mprint\u001b[39m(column_names)\n",
      "\u001b[1;31mNameError\u001b[0m: name 'df_cleaned' is not defined"
     ]
    }
   ],
   "source": [
    "column_names = df_cleaned.columns\n",
    "print(column_names)"
   ]
  },
  {
   "cell_type": "code",
   "execution_count": 23,
   "metadata": {},
   "outputs": [
    {
     "ename": "NameError",
     "evalue": "name 'df_cleaned' is not defined",
     "output_type": "error",
     "traceback": [
      "\u001b[1;31m---------------------------------------------------------------------------\u001b[0m",
      "\u001b[1;31mNameError\u001b[0m                                 Traceback (most recent call last)",
      "Cell \u001b[1;32mIn[23], line 1\u001b[0m\n\u001b[1;32m----> 1\u001b[0m df_cleaned\u001b[39m.\u001b[39mhead()\n",
      "\u001b[1;31mNameError\u001b[0m: name 'df_cleaned' is not defined"
     ]
    }
   ],
   "source": [
    "df_cleaned.head()"
   ]
  },
  {
   "cell_type": "code",
   "execution_count": 24,
   "metadata": {},
   "outputs": [],
   "source": [
    "import pandas as pd\n",
    "from sklearn.model_selection import train_test_split\n",
    "from sklearn.preprocessing import StandardScaler\n",
    "from sklearn.ensemble import RandomForestClassifier\n",
    "from sklearn.metrics import accuracy_score, precision_score, recall_score, f1_score\n"
   ]
  },
  {
   "cell_type": "code",
   "execution_count": 13,
   "metadata": {},
   "outputs": [],
   "source": [
    "# Select relevant features and target variable\n",
    "features = df1[['pl_orbper', 'pl_rade', 'pl_orbeccen', 'pl_orbincl', 'pl_tranmid', 'pl_imppar', 'pl_trandep', 'pl_trandur', 'pl_ratdor', 'pl_ratror', 'sy_vmag', 'sy_kmag']]\n",
    "target = df1['ttv_flag']\n"
   ]
  },
  {
   "cell_type": "code",
   "execution_count": 14,
   "metadata": {},
   "outputs": [],
   "source": [
    "# Split the data into training and testing sets\n",
    "X_train, X_test, y_train, y_test = train_test_split(features, target, test_size=0.2, random_state=42)"
   ]
  },
  {
   "cell_type": "code",
   "execution_count": 15,
   "metadata": {},
   "outputs": [],
   "source": [
    "# Standardize the features\n",
    "scaler = StandardScaler()\n",
    "X_train_scaled = scaler.fit_transform(X_train)\n",
    "X_test_scaled = scaler.transform(X_test)"
   ]
  },
  {
   "cell_type": "code",
   "execution_count": 16,
   "metadata": {},
   "outputs": [
    {
     "name": "stdout",
     "output_type": "stream",
     "text": [
      "Accuracy: 1.00\n",
      "Precision: 0.00\n",
      "Recall: 0.00\n",
      "F1 Score: 0.00\n"
     ]
    },
    {
     "name": "stderr",
     "output_type": "stream",
     "text": [
      "c:\\Users\\hp\\AppData\\Local\\Programs\\Python\\Python39\\lib\\site-packages\\sklearn\\metrics\\_classification.py:1469: UndefinedMetricWarning: Precision is ill-defined and being set to 0.0 due to no predicted samples. Use `zero_division` parameter to control this behavior.\n",
      "  _warn_prf(average, modifier, msg_start, len(result))\n",
      "c:\\Users\\hp\\AppData\\Local\\Programs\\Python\\Python39\\lib\\site-packages\\sklearn\\metrics\\_classification.py:1469: UndefinedMetricWarning: Recall is ill-defined and being set to 0.0 due to no true samples. Use `zero_division` parameter to control this behavior.\n",
      "  _warn_prf(average, modifier, msg_start, len(result))\n",
      "c:\\Users\\hp\\AppData\\Local\\Programs\\Python\\Python39\\lib\\site-packages\\sklearn\\metrics\\_classification.py:1757: UndefinedMetricWarning: F-score is ill-defined and being set to 0.0 due to no true nor predicted samples. Use `zero_division` parameter to control this behavior.\n",
      "  _warn_prf(average, \"true nor predicted\", \"F-score is\", len(true_sum))\n"
     ]
    }
   ],
   "source": [
    "# Train a RandomForestClassifier\n",
    "model = RandomForestClassifier(random_state=42)\n",
    "model.fit(X_train_scaled, y_train)\n",
    "\n",
    "# Make predictions on the test set\n",
    "y_pred = model.predict(X_test_scaled)\n",
    "\n",
    "# Evaluate the model\n",
    "accuracy = accuracy_score(y_test, y_pred)\n",
    "precision = precision_score(y_test, y_pred)\n",
    "recall = recall_score(y_test, y_pred)\n",
    "f1 = f1_score(y_test, y_pred)\n",
    "\n",
    "print(f\"Accuracy: {accuracy:.2f}\")\n",
    "print(f\"Precision: {precision:.2f}\")\n",
    "print(f\"Recall: {recall:.2f}\")\n",
    "print(f\"F1 Score: {f1:.2f}\")"
   ]
  },
  {
   "cell_type": "code",
   "execution_count": 17,
   "metadata": {},
   "outputs": [
    {
     "name": "stdout",
     "output_type": "stream",
     "text": [
      "Sample Input:\n",
      "   pl_orbper  pl_rade  pl_orbeccen  pl_orbincl  pl_tranmid  pl_imppar  \\\n",
      "0       10.0      1.5          0.1        89.0   2459000.0       0.02   \n",
      "\n",
      "   pl_trandep  pl_trandur  pl_ratdor  pl_ratror  sy_vmag  sy_kmag  \n",
      "0        0.01         2.0       0.01        0.1     10.0      8.0  \n",
      "\n",
      "Predicted Output:\n",
      "[0]\n"
     ]
    }
   ],
   "source": [
    "# Sample input data\n",
    "sample_input = pd.DataFrame({\n",
    "    'pl_orbper': [10.0],\n",
    "    'pl_rade': [1.5],\n",
    "    'pl_orbeccen': [0.1],\n",
    "    'pl_orbincl': [89.0],\n",
    "    'pl_tranmid': [2459000.0],\n",
    "    'pl_imppar': [0.02],\n",
    "    'pl_trandep': [0.01],\n",
    "    'pl_trandur': [2.0],\n",
    "    'pl_ratdor': [0.01],\n",
    "    'pl_ratror': [0.1],\n",
    "    'sy_vmag': [10.0],\n",
    "    'sy_kmag': [8.0]\n",
    "})\n",
    "\n",
    "# Standardize the sample input\n",
    "sample_input_scaled = scaler.transform(sample_input)\n",
    "\n",
    "# Make predictions using the trained model\n",
    "sample_output = model.predict(sample_input_scaled)\n",
    "\n",
    "print(\"Sample Input:\")\n",
    "print(sample_input)\n",
    "print(\"\\nPredicted Output:\")\n",
    "print(sample_output)"
   ]
  },
  {
   "cell_type": "code",
   "execution_count": 18,
   "metadata": {},
   "outputs": [
    {
     "data": {
      "text/plain": [
       "2"
      ]
     },
     "execution_count": 18,
     "metadata": {},
     "output_type": "execute_result"
    }
   ],
   "source": [
    "y_train.nunique()"
   ]
  },
  {
   "cell_type": "code",
   "execution_count": null,
   "metadata": {},
   "outputs": [],
   "source": [
    "# Sample input data for class 1 (ttv_flag = 1)\n",
    "sample_input_class_1 = pd.DataFrame({\n",
    "    'pl_orbper': [15.0],\n",
    "    'pl_rade': [2.0],\n",
    "    'pl_orbeccen': [0.2],\n",
    "    'pl_orbincl': [88.0],\n",
    "    'pl_tranmid': [2459100.0],\n",
    "    'pl_imppar': [0.03],\n",
    "    'pl_trandep': [0.02],\n",
    "    'pl_trandur': [3.0],\n",
    "    'pl_ratdor': [0.015],\n",
    "    'pl_ratror': [0.15],\n",
    "    'sy_vmag': [9.5],\n",
    "    'sy_kmag': [7.8]\n",
    "})\n",
    "\n",
    "# Standardize the sample input\n",
    "sample_input_class_1_scaled = scaler.transform(sample_input_class_1)\n",
    "\n",
    "# Make predictions using the trained model\n",
    "sample_output_class_1 = model.predict(sample_input_class_1_scaled)\n",
    "\n",
    "print(\"Sample Input for Class 1:\")\n",
    "print(sample_input_class_1)\n",
    "print(\"\\nPredicted Output for Class 1:\")\n",
    "print(sample_output_class_1)\n"
   ]
  },
  {
   "cell_type": "code",
   "execution_count": 19,
   "metadata": {},
   "outputs": [
    {
     "name": "stdout",
     "output_type": "stream",
     "text": [
      "Sample Input for Class 1:\n",
      "   pl_orbper  pl_rade  pl_orbeccen  pl_orbincl  pl_tranmid  pl_imppar  \\\n",
      "0       20.0      1.8         0.15        87.5   2459200.0      0.025   \n",
      "\n",
      "   pl_trandep  pl_trandur  pl_ratdor  pl_ratror  sy_vmag  sy_kmag  \n",
      "0       0.015         2.5      0.012       0.12      9.8      8.2  \n",
      "\n",
      "Predicted Output for Class 1:\n",
      "[0]\n"
     ]
    }
   ],
   "source": [
    "# Sample input data for class 1 (ttv_flag = 1)\n",
    "sample_input_class_1_2 = pd.DataFrame({\n",
    "    'pl_orbper': [20.0],\n",
    "    'pl_rade': [1.8],\n",
    "    'pl_orbeccen': [0.15],\n",
    "    'pl_orbincl': [87.5],\n",
    "    'pl_tranmid': [2459200.0],\n",
    "    'pl_imppar': [0.025],\n",
    "    'pl_trandep': [0.015],\n",
    "    'pl_trandur': [2.5],\n",
    "    'pl_ratdor': [0.012],\n",
    "    'pl_ratror': [0.12],\n",
    "    'sy_vmag': [9.8],\n",
    "    'sy_kmag': [8.2]\n",
    "})\n",
    "\n",
    "# Standardize the sample input\n",
    "sample_input_class_1_2_scaled = scaler.transform(sample_input_class_1_2)\n",
    "\n",
    "# Make predictions using the trained model\n",
    "sample_output_class_1_2 = model.predict(sample_input_class_1_2_scaled)\n",
    "\n",
    "print(\"Sample Input for Class 1:\")\n",
    "print(sample_input_class_1_2)\n",
    "print(\"\\nPredicted Output for Class 1:\")\n",
    "print(sample_output_class_1_2)\n"
   ]
  },
  {
   "cell_type": "code",
   "execution_count": 20,
   "metadata": {},
   "outputs": [
    {
     "name": "stdout",
     "output_type": "stream",
     "text": [
      "Dataset for Class 1:\n",
      "           pl_name  pl_orbper  pl_orbpererr1  pl_orbpererr2  pl_orbperlim  \\\n",
      "2247      K2-266 d  14.697000   3.400000e-04  -3.500000e-04           0.0   \n",
      "2250      K2-266 e  19.482000   1.200000e-03  -1.200000e-03           0.0   \n",
      "4985   Kepler-11 b  10.303900   6.000000e-04  -1.000000e-03           0.0   \n",
      "5000   Kepler-11 c  13.024100   1.300000e-03  -8.000000e-04           0.0   \n",
      "5011   Kepler-11 d  22.684500   9.000000e-04  -9.000000e-04           0.0   \n",
      "5027   Kepler-11 e  31.999600   8.000000e-04  -1.200000e-03           0.0   \n",
      "5043   Kepler-11 f  46.688800   2.700000e-03  -3.200000e-03           0.0   \n",
      "31250    WASP-18 b   0.941452   2.400000e-07  -2.400000e-07           0.0   \n",
      "31256    WASP-18 b   0.941453   7.800000e-07  -8.600000e-07           0.0   \n",
      "\n",
      "       pl_rade  pl_radeerr1  pl_radeerr2  pl_radelim  pl_orbeccen  ...  \\\n",
      "2247     2.930        0.140       -0.120         0.0      0.04700  ...   \n",
      "2250     2.730        0.140       -0.110         0.0      0.04300  ...   \n",
      "4985     1.800        0.030       -0.050         0.0      0.04500  ...   \n",
      "5000     2.870        0.050       -0.060         0.0      0.02600  ...   \n",
      "5011     3.120        0.060       -0.070         0.0      0.00400  ...   \n",
      "5027     4.190        0.070       -0.090         0.0      0.01200  ...   \n",
      "5043     2.490        0.040       -0.070         0.0      0.01300  ...   \n",
      "31250   13.899        0.886       -0.886         0.0      0.00510  ...   \n",
      "31256   14.202        0.695       -0.504         0.0      0.00848  ...   \n",
      "\n",
      "       pl_ratror  pl_ratrorerr1  pl_ratrorerr2  pl_ratrorlim  sy_vmag  \\\n",
      "2247     0.03827        0.00071       -0.00057           0.0   11.625   \n",
      "2250     0.03564        0.00067       -0.00061           0.0   11.625   \n",
      "4985     0.01563        0.00018       -0.00023           0.0   13.817   \n",
      "5000     0.02496        0.00015       -0.00019           0.0   13.817   \n",
      "5011     0.02714        0.00018       -0.00019           0.0   13.817   \n",
      "5027     0.03643        0.00021       -0.00028           0.0   13.817   \n",
      "5043     0.02169        0.00026       -0.00026           0.0   13.817   \n",
      "31250    0.10180        0.00110       -0.00110           0.0    9.280   \n",
      "31256    0.09576        0.00105       -0.00063           0.0    9.280   \n",
      "\n",
      "       sy_vmagerr1  sy_vmagerr2  sy_kmag  sy_kmagerr1  sy_kmagerr2  \n",
      "2247         0.046       -0.046    8.897        0.023       -0.023  \n",
      "2250         0.046       -0.046    8.897        0.023       -0.023  \n",
      "4985         0.092       -0.092   12.180        0.020       -0.020  \n",
      "5000         0.092       -0.092   12.180        0.020       -0.020  \n",
      "5011         0.092       -0.092   12.180        0.020       -0.020  \n",
      "5027         0.092       -0.092   12.180        0.020       -0.020  \n",
      "5043         0.092       -0.092   12.180        0.020       -0.020  \n",
      "31250        0.030       -0.030    8.131        0.027       -0.027  \n",
      "31256        0.030       -0.030    8.131        0.027       -0.027  \n",
      "\n",
      "[9 rows x 48 columns]\n"
     ]
    }
   ],
   "source": [
    "# Select only rows where ttv_flag is 1\n",
    "class_1_data = df1[df1['ttv_flag'] == 1]\n",
    "\n",
    "# Display the dataset for class 1\n",
    "print(\"Dataset for Class 1:\")\n",
    "print(class_1_data)\n"
   ]
  },
  {
   "cell_type": "code",
   "execution_count": null,
   "metadata": {},
   "outputs": [],
   "source": []
  }
 ],
 "metadata": {
  "kernelspec": {
   "display_name": "Python 3",
   "language": "python",
   "name": "python3"
  },
  "language_info": {
   "codemirror_mode": {
    "name": "ipython",
    "version": 3
   },
   "file_extension": ".py",
   "mimetype": "text/x-python",
   "name": "python",
   "nbconvert_exporter": "python",
   "pygments_lexer": "ipython3",
   "version": "3.9.13"
  }
 },
 "nbformat": 4,
 "nbformat_minor": 2
}
